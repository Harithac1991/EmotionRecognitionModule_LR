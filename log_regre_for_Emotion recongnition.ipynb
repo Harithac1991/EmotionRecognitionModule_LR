{
 "cells": [
  {
   "cell_type": "code",
   "execution_count": 1,
   "metadata": {},
   "outputs": [],
   "source": [
    "import numpy as np\n",
    "import pandas as pd\n",
    "from sklearn.utils import shuffle"
   ]
  },
  {
   "cell_type": "code",
   "execution_count": 3,
   "metadata": {},
   "outputs": [],
   "source": [
    "def getdata(balance_ones=True):\n",
    "    Y = []\n",
    "    X = []\n",
    "    first = True\n",
    "    for line in open('fer2013.csv'):\n",
    "        if first:\n",
    "            first = False\n",
    "        else:\n",
    "            row = line.split(',')\n",
    "            Y.append(int(row[0]))\n",
    "            X.append([int(p) for p in row[1].split()])\n",
    "\n",
    "    X, Y = np.array(X) / 255.0, np.array(Y)\n",
    "\n",
    "    if balance_ones:\n",
    "        # balance the 1 class\n",
    "        X0, Y0 = X[Y!=1, :], Y[Y!=1]\n",
    "        X1 = X[Y==1, :]\n",
    "        X1 = np.repeat(X1, 9, axis=0)\n",
    "        X = np.vstack([X0, X1])\n",
    "        Y = np.concatenate((Y0, [1]*len(X1)))\n",
    "    return(X,Y)"
   ]
  },
  {
   "cell_type": "code",
   "execution_count": 31,
   "metadata": {},
   "outputs": [],
   "source": [
    "def y2indicator(y):\n",
    "    N = len(y)\n",
    "    K = len(set(y))\n",
    "    ind = np.zeros((N, K))\n",
    "    for i in range(N):\n",
    "        ind[i, y[i]] = 1\n",
    "    return (ind)\n",
    "# Soft max fuction - the result at each point \n",
    "def softmax(A):\n",
    "    expA = np.exp(A)\n",
    "    return(expA / expA.sum(axis=1, keepdims=True))\n",
    "\n",
    "def get_cost(Y,T):\n",
    "    return(-(T *np.log(Y)).sum())\n",
    "def error_rate(original,predictions):\n",
    "    return(np.mean(original != predictions))"
   ]
  },
  {
   "cell_type": "code",
   "execution_count": 32,
   "metadata": {},
   "outputs": [],
   "source": [
    "class logisticmodel(object):\n",
    "    def __init__(self):\n",
    "        pass\n",
    "    #propogate forward and calculate the err\t\n",
    "    def forward(self,X):      \n",
    "        return (softmax(X.dot(self.W) + self.b))\n",
    "    def get_predictions(self,X):\n",
    "        fY = self.forward(X)\n",
    "        return(np.argmax(fY,axis=1))\n",
    "    def find_score(self,X,Y):\n",
    "        predictions = get_predictions(X)\n",
    "        return(1- get_error_rate(Y,predictions))\n",
    "    \n",
    "    def fit(self, X, Y, learning_rate=1e-7, reg=0., epochs=10000, show_fig=False):\n",
    "        X, Y = shuffle(X, Y)\n",
    "        Xvalid, Yvalid = X[-1000:], Y[-1000:]\n",
    "        Tvalid = y2indicator(Yvalid)\n",
    "        X, Y = X[:-1000], Y[:-1000]\n",
    "\n",
    "        N, D = X.shape\n",
    "        K = len(set(Y))\n",
    "        T = y2indicator(Y)\n",
    "        self.W = np.random.randn(D, K) / np.sqrt(D)\n",
    "        self.b = np.zeros(K)\n",
    "\n",
    "        costs = []\n",
    "        best_validation_error = 1\n",
    "        for i in range(epochs):\n",
    "            # forward propagation and cost calculation\n",
    "            pY = self.forward(X)\n",
    "\n",
    "            # gradient descent step\n",
    "            self.W -= learning_rate*(X.T.dot(pY - T) + reg*self.W)\n",
    "            self.b -= learning_rate*((pY - T).sum(axis=0) + reg*self.b)\n",
    "\n",
    "            if i % 10 == 0:\n",
    "                pYvalid = self.forward(Xvalid)\n",
    "                c = get_cost(Tvalid, pYvalid)\n",
    "                costs.append(c)\n",
    "                e = error_rate(Yvalid, np.argmax(pYvalid, axis=1))\n",
    "                print(\"i:\", i, \"cost:\", c, \"error:\", e)\n",
    "                if e < best_validation_error:\n",
    "                    best_validation_error = e\n",
    "        print(\"best_validation_error:\", best_validation_error)\n",
    "        if show_fig:\n",
    "            plt.plot(costs)\n",
    "            plt.show()"
   ]
  },
  {
   "cell_type": "code",
   "execution_count": null,
   "metadata": {},
   "outputs": [
    {
     "name": "stdout",
     "output_type": "stream",
     "text": [
      "39263\n",
      "2304\n",
      "7\n",
      "1000\n",
      "2304\n",
      "7\n",
      "i: 0 cost: inf error: 0.878\n",
      "39263\n",
      "2304\n",
      "7\n"
     ]
    },
    {
     "name": "stderr",
     "output_type": "stream",
     "text": [
      "C:\\Users\\haritha.c\\AppData\\Local\\Continuum\\anaconda2\\envs\\py36\\lib\\site-packages\\ipykernel_launcher.py:13: RuntimeWarning: divide by zero encountered in log\n",
      "  del sys.path[0]\n"
     ]
    },
    {
     "name": "stdout",
     "output_type": "stream",
     "text": [
      "39263\n",
      "2304\n",
      "7\n",
      "39263\n",
      "2304\n",
      "7\n"
     ]
    }
   ],
   "source": [
    "def main():\n",
    "    X, Y = getdata()\n",
    "    model = logisticmodel()\n",
    "    model.fit(X,Y)\n",
    "    print(model.find_score(X,Y))\n",
    "if __name__ == \"__main__\":\n",
    "    main()\n"
   ]
  },
  {
   "cell_type": "code",
   "execution_count": null,
   "metadata": {},
   "outputs": [],
   "source": []
  }
 ],
 "metadata": {
  "kernelspec": {
   "display_name": "Python 3",
   "language": "python",
   "name": "python3"
  },
  "language_info": {
   "codemirror_mode": {
    "name": "ipython",
    "version": 3
   },
   "file_extension": ".py",
   "mimetype": "text/x-python",
   "name": "python",
   "nbconvert_exporter": "python",
   "pygments_lexer": "ipython3",
   "version": "3.5.2"
  }
 },
 "nbformat": 4,
 "nbformat_minor": 2
}
